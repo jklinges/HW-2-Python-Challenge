{
 "cells": [
  {
   "cell_type": "markdown",
   "metadata": {},
   "source": [
    "# PyPoll Analysis"
   ]
  },
  {
   "cell_type": "code",
   "execution_count": null,
   "metadata": {},
   "outputs": [],
   "source": [
    "# Your task is to create a Python script that analyzes the votes and calculates each of the following:\n",
    "o\tThe total number of votes cast\n",
    "o\tA complete list of candidates who received votes\n",
    "o\tThe percentage of votes each candidate won\n",
    "o\tThe total number of votes each candidate won\n",
    "o\tThe winner of the election based on popular vote."
   ]
  },
  {
   "cell_type": "code",
   "execution_count": 3,
   "metadata": {},
   "outputs": [
    {
     "name": "stdout",
     "output_type": "stream",
     "text": [
      "Election Results\n",
      "-------------------------\n",
      "Total Votes: 1048575\n",
      "-------------------------\n",
      "Khan: 63.09% (661583)\n",
      "Correy: 19.94% (209046)\n",
      "Li: 13.96% (146360)\n",
      "O'Tooley: 3.01% (31586)\n",
      "-------------------------\n",
      "Winner: Khan\n",
      "-------------------------\n"
     ]
    }
   ],
   "source": [
    "import pandas as pd\n",
    "\n",
    "df = pd.read_csv(\"Resources/election_data.csv\")\n",
    "\n",
    "tot_votes = df.Candidate.count()\n",
    "winner = df.groupby('Candidate').count().County.idxmax()\n",
    "\n",
    "x = df.Candidate.unique()\n",
    "z = df[\"Candidate\"].value_counts()\n",
    "y = ((z / tot_votes) * 100).round(2)\n",
    "\n",
    "with open(\"output.csv\",'w') as f:\n",
    "    f.write(\"Election Results\\n\")\n",
    "    f.write(\"-------------------------\\n\")\n",
    "    f.write(f\"Total Votes: {tot_votes}\\n\")\n",
    "    f.write(\"-------------------------\\n\")\n",
    "    for i in range(4):\n",
    "        f.write(f\"{x[i]}: {y[i]}% ({z[i]})\\n\")\n",
    "    f.write(\"-------------------------\\n\")\n",
    "    f.write(f\"Winner: {winner}\\n\")\n",
    "    f.write(\"-------------------------\\n\")\n",
    "\n",
    "print(\"Election Results\")\n",
    "print(\"-------------------------\")\n",
    "print(f\"Total Votes: {tot_votes}\")\n",
    "print(\"-------------------------\")\n",
    "for i in range(4):\n",
    "    print(f\"{x[i]}: {y[i]}% ({z[i]})\")\n",
    "print(\"-------------------------\")\n",
    "print(f\"Winner: {winner}\")\n",
    "print(\"-------------------------\")\n"
   ]
  }
 ],
 "metadata": {
  "kernelspec": {
   "display_name": "Python 3",
   "language": "python",
   "name": "python3"
  },
  "language_info": {
   "codemirror_mode": {
    "name": "ipython",
    "version": 3
   },
   "file_extension": ".py",
   "mimetype": "text/x-python",
   "name": "python",
   "nbconvert_exporter": "python",
   "pygments_lexer": "ipython3",
   "version": "3.6.10"
  }
 },
 "nbformat": 4,
 "nbformat_minor": 4
}
